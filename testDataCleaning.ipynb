{
 "cells": [
  {
   "cell_type": "code",
   "execution_count": 1,
   "id": "fe94c7bf",
   "metadata": {},
   "outputs": [
    {
     "data": {
      "text/plain": [
       "<Figure size 1400x800 with 0 Axes>"
      ]
     },
     "metadata": {},
     "output_type": "display_data"
    }
   ],
   "source": [
    "import numpy as np\n",
    "import pandas as pd\n",
    "import sklearn\n",
    "import scipy\n",
    "import matplotlib.pyplot as plt\n",
    "import seaborn as sns\n",
    "from sklearn.preprocessing import StandardScaler\n",
    "from sklearn.preprocessing import LabelEncoder\n",
    "from sklearn.preprocessing import OrdinalEncoder\n",
    "from sklearn.impute import SimpleImputer\n",
    "from sklearn.metrics import *\n",
    "from sklearn.ensemble import IsolationForest\n",
    "from sklearn.neighbors import LocalOutlierFactor\n",
    "from sklearn.svm import OneClassSVM\n",
    "from sklearn import svm\n",
    "import matplotlib.pyplot as plt\n",
    "pd.set_option('display.max_columns', None)\n",
    "pd.set_option('display.max_rows',5000000)\n",
    "plt.figure(figsize=(14, 8))\n",
    "\n",
    "RANDOM_SEED = 42\n",
    "LABELS = [\"Valid\", \"Fraud\"]"
   ]
  },
  {
   "cell_type": "code",
   "execution_count": 2,
   "id": "150b30cf",
   "metadata": {},
   "outputs": [
    {
     "name": "stdout",
     "output_type": "stream",
     "text": [
      "Testing data (506691, 433)\n"
     ]
    }
   ],
   "source": [
    "\n",
    "\n",
    "df3=pd.read_csv(r\"test_transaction.csv\")\n",
    "df4=pd.read_csv(r\"test_identity.csv\")\n",
    "testing_data=pd.merge(df3,df4,how='left',on='TransactionID')  #all records from df1 and common records from df2\n",
    "print(\"Testing data\",testing_data.shape)\n"
   ]
  },
  {
   "cell_type": "code",
   "execution_count": null,
   "id": "393d8b8b",
   "metadata": {},
   "outputs": [],
   "source": []
  },
  {
   "cell_type": "code",
   "execution_count": 3,
   "id": "aacb1725",
   "metadata": {},
   "outputs": [],
   "source": [
    "terd=testing_data[[\n",
    " 'V1',\n",
    " 'V2',\n",
    " 'V3',\n",
    " 'V4',\n",
    " 'V5',\n",
    " 'V6',\n",
    " 'V7',\n",
    " 'V8',\n",
    " 'V9',\n",
    " 'V10',\n",
    " 'V11',\n",
    " 'V12',\n",
    " 'V13',\n",
    " 'V14',\n",
    " 'V15',\n",
    " 'V16',\n",
    " 'V17',\n",
    " 'V18',\n",
    " 'V19',\n",
    " 'V20',\n",
    " 'V21',\n",
    " 'V22',\n",
    " 'V23',\n",
    " 'V24',\n",
    " 'V25',\n",
    " 'V26',\n",
    " 'V27',\n",
    " 'V28',\n",
    " 'V29',\n",
    " 'V30',\n",
    " 'V31',\n",
    " 'V32',\n",
    " 'V33',\n",
    " 'V34',\n",
    " 'V35',\n",
    " 'V36',\n",
    " 'V37',\n",
    " 'V38',\n",
    " 'V39',\n",
    " 'V40',\n",
    " 'V41',\n",
    " 'V42',\n",
    " 'V43',\n",
    " 'V44',\n",
    " 'V45',\n",
    " 'V46',\n",
    " 'V47',\n",
    " 'V48',\n",
    " 'V49',\n",
    " 'V50',\n",
    " 'V51',\n",
    " 'V52',\n",
    " 'V53',\n",
    " 'V54',\n",
    " 'V55',\n",
    " 'V56',\n",
    " 'V57',\n",
    " 'V58',\n",
    " 'V59',\n",
    " 'V60',\n",
    " 'V61',\n",
    " 'V62',\n",
    " 'V63',\n",
    " 'V64',\n",
    " 'V65',\n",
    " 'V66',\n",
    " 'V67',\n",
    " 'V68',\n",
    " 'V69',\n",
    " 'V70',\n",
    " 'V71',\n",
    " 'V72',\n",
    " 'V73',\n",
    " 'V74',\n",
    " 'V75',\n",
    " 'V76',\n",
    " 'V77',\n",
    " 'V78',\n",
    " 'V79',\n",
    " 'V80',\n",
    " 'V81',\n",
    " 'V82',\n",
    " 'V83',\n",
    " 'V84',\n",
    " 'V85',\n",
    " 'V86',\n",
    " 'V87',\n",
    " 'V88',\n",
    " 'V89',\n",
    " 'V90',\n",
    " 'V91',\n",
    " 'V92',\n",
    " 'V93',\n",
    " 'V94',\n",
    " 'V95',\n",
    " 'V96',\n",
    " 'V97',\n",
    " 'V98',\n",
    " 'V99',\n",
    " 'V100',\n",
    " 'V101',\n",
    " 'V102',\n",
    " 'V103',\n",
    " 'V104',\n",
    " 'V105',\n",
    " 'V106',\n",
    " 'V107',\n",
    " 'V108',\n",
    " 'V109',\n",
    " 'V110',\n",
    " 'V111',\n",
    " 'V112',\n",
    " 'V113',\n",
    " 'V114',\n",
    " 'V115',\n",
    " 'V116',\n",
    " 'V117',\n",
    " 'V118',\n",
    " 'V119',\n",
    " 'V120',\n",
    " 'V121',\n",
    " 'V122',\n",
    " 'V123',\n",
    " 'V124',\n",
    " 'V125',\n",
    " 'V126',\n",
    " 'V127',\n",
    " 'V128',\n",
    " 'V129',\n",
    " 'V130',\n",
    " 'V131',\n",
    " 'V132',\n",
    " 'V133',\n",
    " 'V134',\n",
    " 'V135',\n",
    " 'V136',\n",
    " 'V137',\n",
    " 'V138',\n",
    " 'V139',\n",
    " 'V140',\n",
    " 'V141',\n",
    " 'V142',\n",
    " 'V143',\n",
    " 'V144',\n",
    " 'V145',\n",
    " 'V146',\n",
    " 'V147',\n",
    " 'V148',\n",
    " 'V149',\n",
    " 'V150',\n",
    " 'V151',\n",
    " 'V152',\n",
    " 'V153',\n",
    " 'V154',\n",
    " 'V155',\n",
    " 'V156',\n",
    " 'V157',\n",
    " 'V158',\n",
    " 'V159',\n",
    " 'V160',\n",
    " 'V161',\n",
    " 'V162',\n",
    " 'V163',\n",
    " 'V164',\n",
    " 'V165',\n",
    " 'V166',\n",
    " 'V167',\n",
    " 'V168',\n",
    " 'V169',\n",
    " 'V170',\n",
    " 'V171',\n",
    " 'V172',\n",
    " 'V173',\n",
    " 'V174',\n",
    " 'V175',\n",
    " 'V176',\n",
    " 'V177',\n",
    " 'V178',\n",
    " 'V179',\n",
    " 'V180',\n",
    " 'V181',\n",
    " 'V182',\n",
    " 'V183',\n",
    " 'V184',\n",
    " 'V185',\n",
    " 'V186',\n",
    " 'V187',\n",
    " 'V188',\n",
    " 'V189',\n",
    " 'V190',\n",
    " 'V191',\n",
    " 'V192',\n",
    " 'V193',\n",
    " 'V194',\n",
    " 'V195',\n",
    " 'V196',\n",
    " 'V197',\n",
    " 'V198',\n",
    " 'V199',\n",
    " 'V200',\n",
    " 'V201',\n",
    " 'V202',\n",
    " 'V203',\n",
    " 'V204',\n",
    " 'V205',\n",
    " 'V206',\n",
    " 'V207',\n",
    " 'V208',\n",
    " 'V209',\n",
    " 'V210',\n",
    " 'V211',\n",
    " 'V212',\n",
    " 'V213',\n",
    " 'V214',\n",
    " 'V215',\n",
    " 'V216',\n",
    " 'V217',\n",
    " 'V218',\n",
    " 'V219',\n",
    " 'V220',\n",
    " 'V221',\n",
    " 'V222',\n",
    " 'V223',\n",
    " 'V224',\n",
    " 'V225',\n",
    " 'V226',\n",
    " 'V227',\n",
    " 'V228',\n",
    " 'V229',\n",
    " 'V230',\n",
    " 'V231',\n",
    " 'V232',\n",
    " 'V233',\n",
    " 'V234',\n",
    " 'V235',\n",
    " 'V236',\n",
    " 'V237',\n",
    " 'V238',\n",
    " 'V239',\n",
    " 'V240',\n",
    " 'V241',\n",
    " 'V242',\n",
    " 'V243',\n",
    " 'V244',\n",
    " 'V245',\n",
    " 'V246',\n",
    " 'V247',\n",
    " 'V248',\n",
    " 'V249',\n",
    " 'V250',\n",
    " 'V251',\n",
    " 'V252',\n",
    " 'V253',\n",
    " 'V254',\n",
    " 'V255',\n",
    " 'V256',\n",
    " 'V257',\n",
    " 'V258',\n",
    " 'V259',\n",
    " 'V260',\n",
    " 'V261',\n",
    " 'V262',\n",
    " 'V263',\n",
    " 'V264',\n",
    " 'V265',\n",
    " 'V266',\n",
    " 'V267',\n",
    " 'V268',\n",
    " 'V269',\n",
    " 'V270',\n",
    " 'V271',\n",
    " 'V272',\n",
    " 'V273',\n",
    " 'V274',\n",
    " 'V275',\n",
    " 'V276',\n",
    " 'V277',\n",
    " 'V278',\n",
    " 'V279',\n",
    " 'V280',\n",
    " 'V281',\n",
    " 'V282',\n",
    " 'V283',\n",
    " 'V284',\n",
    " 'V285',\n",
    " 'V286',\n",
    " 'V287',\n",
    " 'V288',\n",
    " 'V289',\n",
    " 'V290',\n",
    " 'V291',\n",
    " 'V292',\n",
    " 'V293',\n",
    " 'V294',\n",
    " 'V295',\n",
    " 'V296',\n",
    " 'V297',\n",
    " 'V298',\n",
    " 'V299',\n",
    " 'V300',\n",
    " 'V301',\n",
    " 'V302',\n",
    " 'V303',\n",
    " 'V304',\n",
    " 'V305',\n",
    " 'V306',\n",
    " 'V307',\n",
    " 'V308',\n",
    " 'V309',\n",
    " 'V310',\n",
    " 'V311',\n",
    " 'V312',\n",
    " 'V313',\n",
    " 'V314',\n",
    " 'V315',\n",
    " 'V316',\n",
    " 'V317',\n",
    " 'V318',\n",
    " 'V319',\n",
    " 'V320',\n",
    " 'V321',\n",
    " 'V322',\n",
    " 'V323',\n",
    " 'V324',\n",
    " 'V325',\n",
    " 'V326',\n",
    " 'V327',\n",
    " 'V328',\n",
    " 'V329',\n",
    " 'V330',\n",
    " 'V331',\n",
    " 'V332',\n",
    " 'V333',\n",
    " 'V334',\n",
    " 'V335',\n",
    " 'V336',\n",
    " 'V337',\n",
    " 'V338',\n",
    " 'V339'\n",
    "]]"
   ]
  },
  {
   "cell_type": "code",
   "execution_count": 4,
   "id": "870355ef",
   "metadata": {},
   "outputs": [],
   "source": [
    "from sklearn.decomposition import PCA"
   ]
  },
  {
   "cell_type": "code",
   "execution_count": 5,
   "id": "3a3ea45b",
   "metadata": {},
   "outputs": [
    {
     "data": {
      "text/plain": [
       "(506691, 339)"
      ]
     },
     "execution_count": 5,
     "metadata": {},
     "output_type": "execute_result"
    }
   ],
   "source": [
    "terd.shape"
   ]
  },
  {
   "cell_type": "code",
   "execution_count": null,
   "id": "c68b6258",
   "metadata": {},
   "outputs": [],
   "source": [
    "srtest=StandardScaler()\n",
    "srtest.fit(terd)\n",
    "stestdata=srtest.transform(terd)"
   ]
  },
  {
   "cell_type": "code",
   "execution_count": null,
   "id": "32a75720",
   "metadata": {},
   "outputs": [],
   "source": [
    "imptest = SimpleImputer(missing_values=np.nan, strategy='mean')\n",
    "ter1=imptest.fit_transform(stestdata)\n"
   ]
  },
  {
   "cell_type": "code",
   "execution_count": null,
   "id": "8c0a517d",
   "metadata": {},
   "outputs": [],
   "source": [
    "ter1"
   ]
  },
  {
   "cell_type": "code",
   "execution_count": null,
   "id": "672b5624",
   "metadata": {},
   "outputs": [],
   "source": [
    "pcaatestV=PCA(n_components=2)\n",
    "pcaatestV.fit(ter1)\n",
    "Vtpca=pcaatestV.transform(ter1)\n",
    "Vtpca.shape"
   ]
  },
  {
   "cell_type": "code",
   "execution_count": null,
   "id": "040a7341",
   "metadata": {},
   "outputs": [],
   "source": [
    "testing_data=testing_data.drop(columns=terd,axis=1)"
   ]
  },
  {
   "cell_type": "code",
   "execution_count": null,
   "id": "20076593",
   "metadata": {},
   "outputs": [],
   "source": [
    "testing_data.shape"
   ]
  },
  {
   "cell_type": "code",
   "execution_count": null,
   "id": "c76809da",
   "metadata": {},
   "outputs": [],
   "source": [
    "Vt_pca=pd.DataFrame(Vtpca)\n",
    "Vt_pca.head()"
   ]
  },
  {
   "cell_type": "code",
   "execution_count": null,
   "id": "a9f9c35c",
   "metadata": {},
   "outputs": [],
   "source": [
    "testing_data= pd.concat([testing_data, Vt_pca], axis=1)\n",
    "testing_data.head()"
   ]
  },
  {
   "cell_type": "code",
   "execution_count": null,
   "id": "bf58ec8d",
   "metadata": {},
   "outputs": [],
   "source": [
    "testing_data.rename(columns={\n",
    "    0: 'V_features_1',\n",
    "    1: 'V_features_2'\n",
    "}, inplace=True)\n"
   ]
  },
  {
   "cell_type": "code",
   "execution_count": null,
   "id": "22deb3f6",
   "metadata": {},
   "outputs": [],
   "source": [
    "iddt=testing_data[['id-01',\n",
    " 'id-02',\n",
    " 'id-03',\n",
    " 'id-04',\n",
    " 'id-05',\n",
    " 'id-06',\n",
    " 'id-07',\n",
    " 'id-08',\n",
    " 'id-09',\n",
    " 'id-10',\n",
    " 'id-11',\n",
    " 'id-12',\n",
    " 'id-13',\n",
    " 'id-14',\n",
    " 'id-15',\n",
    " 'id-16',\n",
    " 'id-17',\n",
    " 'id-18',\n",
    " 'id-19',\n",
    " 'id-20',\n",
    " 'id-21',\n",
    " 'id-22',\n",
    " 'id-23',\n",
    " 'id-24',\n",
    " 'id-25',\n",
    " 'id-26',\n",
    " 'id-27',\n",
    " 'id-28',\n",
    " 'id-29',\n",
    " 'id-30',\n",
    " 'id-31',\n",
    " 'id-32',\n",
    " 'id-33',\n",
    " 'id-34',\n",
    " 'id-35',\n",
    " 'id-36',\n",
    " 'id-37',\n",
    " 'id-38']]"
   ]
  },
  {
   "cell_type": "code",
   "execution_count": null,
   "id": "08e3c3c3",
   "metadata": {},
   "outputs": [],
   "source": [
    "IDD1t=pd.DataFrame(iddt)"
   ]
  },
  {
   "cell_type": "code",
   "execution_count": null,
   "id": "813e7c55",
   "metadata": {},
   "outputs": [],
   "source": [
    "import pandas as pd\n",
    "from sklearn.preprocessing import OrdinalEncoder\n",
    "\n",
    "# Create an instance of the OrdinalEncoder\n",
    "encoderr = OrdinalEncoder()\n",
    "\n",
    "# Fit and transform the data using the encoder\n",
    "IDD1t = encoderr.fit_transform(IDD1t)\n",
    "IDD1t=pd.DataFrame(IDD1t)\n",
    "print(iddt.head())\n"
   ]
  },
  {
   "cell_type": "code",
   "execution_count": null,
   "id": "e5775e01",
   "metadata": {},
   "outputs": [],
   "source": []
  },
  {
   "cell_type": "code",
   "execution_count": null,
   "id": "acee3752",
   "metadata": {},
   "outputs": [],
   "source": [
    "srit=StandardScaler()\n",
    "srit.fit(IDD1t)\n",
    "itdata=srit.transform(IDD1t)"
   ]
  },
  {
   "cell_type": "code",
   "execution_count": null,
   "id": "189a918f",
   "metadata": {},
   "outputs": [],
   "source": [
    "impit = SimpleImputer(missing_values=np.NaN, strategy='mean')\n",
    "idt1=impit.fit_transform(itdata)\n"
   ]
  },
  {
   "cell_type": "code",
   "execution_count": null,
   "id": "cb6d861f",
   "metadata": {},
   "outputs": [],
   "source": [
    "pcaait=PCA(n_components=2)\n",
    "pcaait.fit(idt1)\n",
    "IDtpca=pcaait.transform(idt1)\n",
    "IDtpca.shape"
   ]
  },
  {
   "cell_type": "code",
   "execution_count": null,
   "id": "b9eb4334",
   "metadata": {},
   "outputs": [],
   "source": [
    "testing_data=testing_data.drop(columns=iddt,axis=1)"
   ]
  },
  {
   "cell_type": "code",
   "execution_count": null,
   "id": "27a02289",
   "metadata": {},
   "outputs": [],
   "source": [
    "IDt_pca=pd.DataFrame(IDtpca)\n",
    "testing_data= pd.concat([testing_data, IDt_pca], axis=1)\n",
    "\n"
   ]
  },
  {
   "cell_type": "code",
   "execution_count": null,
   "id": "8f2f1b7f",
   "metadata": {},
   "outputs": [],
   "source": [
    "testing_data.rename(columns={\n",
    "    0: 'ID_1',\n",
    "    1: 'ID_2'\n",
    "}, inplace=True)"
   ]
  },
  {
   "cell_type": "code",
   "execution_count": null,
   "id": "97151f39",
   "metadata": {},
   "outputs": [],
   "source": []
  },
  {
   "cell_type": "code",
   "execution_count": null,
   "id": "a46e548c",
   "metadata": {},
   "outputs": [],
   "source": [
    "Mmt=testing_data[['M1','M2','M3','M4','M5','M6','M7','M8','M9']]"
   ]
  },
  {
   "cell_type": "code",
   "execution_count": null,
   "id": "43a429f5",
   "metadata": {},
   "outputs": [],
   "source": [
    "MMt1=pd.DataFrame(Mmt)"
   ]
  },
  {
   "cell_type": "code",
   "execution_count": null,
   "id": "ebac62ab",
   "metadata": {},
   "outputs": [],
   "source": [
    "import pandas as pd\n",
    "from sklearn.preprocessing import OrdinalEncoder\n",
    "\n",
    "# Create an instance of the OrdinalEncoder\n",
    "encoderrr = OrdinalEncoder()\n",
    "\n",
    "# Fit and transform the data using the encoder\n",
    "MMt1 = encoderrr.fit_transform(MMt1)\n",
    "MMt1=pd.DataFrame(MMt1)\n",
    "print(MMt1.head())\n"
   ]
  },
  {
   "cell_type": "code",
   "execution_count": null,
   "id": "76c2d277",
   "metadata": {},
   "outputs": [],
   "source": [
    "srmt=StandardScaler()\n",
    "srmt.fit(MMt1)\n",
    "mtdata=srmt.transform(MMt1)"
   ]
  },
  {
   "cell_type": "code",
   "execution_count": null,
   "id": "f2a268d9",
   "metadata": {},
   "outputs": [],
   "source": [
    "imppmt = SimpleImputer(missing_values=np.NaN, strategy='mean')\n",
    "mmtt1=imppmt.fit_transform(mtdata)"
   ]
  },
  {
   "cell_type": "code",
   "execution_count": null,
   "id": "23bacb06",
   "metadata": {},
   "outputs": [],
   "source": [
    "pcaamt=PCA(n_components=2)\n",
    "pcaamt.fit(mmtt1)\n",
    "Mtpca=pcaamt.transform(mmtt1)\n",
    "Mtpca.shape"
   ]
  },
  {
   "cell_type": "code",
   "execution_count": null,
   "id": "6cd02c8d",
   "metadata": {},
   "outputs": [],
   "source": [
    "testing_data=testing_data.drop(columns=Mmt,axis=1)"
   ]
  },
  {
   "cell_type": "code",
   "execution_count": null,
   "id": "16e3b29c",
   "metadata": {},
   "outputs": [],
   "source": []
  },
  {
   "cell_type": "code",
   "execution_count": null,
   "id": "b066f9d3",
   "metadata": {},
   "outputs": [],
   "source": [
    "Mt_pca=pd.DataFrame(Mtpca)\n",
    "testing_data= pd.concat([testing_data, Mt_pca], axis=1)\n"
   ]
  },
  {
   "cell_type": "code",
   "execution_count": null,
   "id": "d455eb01",
   "metadata": {},
   "outputs": [],
   "source": [
    "testing_data.rename(columns={\n",
    "    0: 'M_1',\n",
    "    1: 'M_2'\n",
    "}, inplace=True)"
   ]
  },
  {
   "cell_type": "code",
   "execution_count": null,
   "id": "88512725",
   "metadata": {},
   "outputs": [],
   "source": [
    "testing_data.head()"
   ]
  },
  {
   "cell_type": "code",
   "execution_count": null,
   "id": "26711277",
   "metadata": {},
   "outputs": [],
   "source": [
    "ddt=testing_data[['D1',\n",
    " 'D2',\n",
    " 'D3',\n",
    " 'D4',\n",
    " 'D5',\n",
    " 'D6',\n",
    " 'D7',\n",
    " 'D8',\n",
    " 'D9',\n",
    " 'D10',\n",
    " 'D11',\n",
    " 'D12',\n",
    " 'D13',\n",
    " 'D14',\n",
    " 'D15']]"
   ]
  },
  {
   "cell_type": "code",
   "execution_count": null,
   "id": "0674b7c6",
   "metadata": {},
   "outputs": [],
   "source": [
    "srdt=StandardScaler()\n",
    "srdt.fit(ddt)\n",
    "dtdata=srdt.transform(ddt)"
   ]
  },
  {
   "cell_type": "code",
   "execution_count": null,
   "id": "ae23d112",
   "metadata": {},
   "outputs": [],
   "source": [
    "impdt = SimpleImputer(missing_values=np.nan, strategy='mean')\n",
    "ddt1=impdt.fit_transform(dtdata)\n"
   ]
  },
  {
   "cell_type": "code",
   "execution_count": null,
   "id": "e3658879",
   "metadata": {},
   "outputs": [],
   "source": [
    "pcadt=PCA(n_components=2)\n",
    "pcadt.fit(ddt1)\n",
    "Dtpca=pcadt.transform(ddt1)\n",
    "Dtpca.shape"
   ]
  },
  {
   "cell_type": "code",
   "execution_count": null,
   "id": "2aceec3f",
   "metadata": {},
   "outputs": [],
   "source": [
    "testing_data=testing_data.drop(columns=ddt,axis=1)"
   ]
  },
  {
   "cell_type": "code",
   "execution_count": null,
   "id": "a5c9f194",
   "metadata": {},
   "outputs": [],
   "source": [
    "Dt_pca=pd.DataFrame(Dtpca)\n",
    "testing_data= pd.concat([testing_data, Dt_pca], axis=1)\n"
   ]
  },
  {
   "cell_type": "code",
   "execution_count": null,
   "id": "0083d260",
   "metadata": {},
   "outputs": [],
   "source": [
    "testing_data.rename(columns={\n",
    "    0: 'D_1',\n",
    "    1: 'D_2'\n",
    "}, inplace=True)"
   ]
  },
  {
   "cell_type": "code",
   "execution_count": null,
   "id": "7a090337",
   "metadata": {},
   "outputs": [],
   "source": []
  },
  {
   "cell_type": "code",
   "execution_count": null,
   "id": "77081a5e",
   "metadata": {},
   "outputs": [],
   "source": [
    "cct=testing_data[['C1',\n",
    " 'C2',\n",
    " 'C3',\n",
    " 'C4',\n",
    " 'C5',\n",
    " 'C6',\n",
    " 'C7',\n",
    " 'C8',\n",
    " 'C9',\n",
    " 'C10',\n",
    " 'C11',\n",
    " 'C12',\n",
    " 'C13',\n",
    " 'C14']]"
   ]
  },
  {
   "cell_type": "code",
   "execution_count": null,
   "id": "5bce1426",
   "metadata": {},
   "outputs": [],
   "source": [
    "srct=StandardScaler()\n",
    "srct.fit(cct)\n",
    "ctdata=srct.transform(cct)"
   ]
  },
  {
   "cell_type": "code",
   "execution_count": null,
   "id": "185ac516",
   "metadata": {},
   "outputs": [],
   "source": [
    "impct = SimpleImputer(missing_values=np.nan, strategy='mean')\n",
    "cct1=impct.fit_transform(ctdata)"
   ]
  },
  {
   "cell_type": "code",
   "execution_count": null,
   "id": "3519e0ae",
   "metadata": {},
   "outputs": [],
   "source": [
    "pcact=PCA(n_components=2)\n",
    "pcact.fit(cct1)\n",
    "Ctpca=pcact.transform(cct1)\n",
    "Ctpca.shape"
   ]
  },
  {
   "cell_type": "code",
   "execution_count": null,
   "id": "96ec5498",
   "metadata": {},
   "outputs": [],
   "source": [
    "testing_data=testing_data.drop(columns=cct,axis=1)"
   ]
  },
  {
   "cell_type": "code",
   "execution_count": null,
   "id": "c6489c7d",
   "metadata": {},
   "outputs": [],
   "source": [
    "Ct_pca=pd.DataFrame(Ctpca)\n",
    "testing_data= pd.concat([testing_data, Ct_pca], axis=1)\n"
   ]
  },
  {
   "cell_type": "code",
   "execution_count": null,
   "id": "a99f5913",
   "metadata": {},
   "outputs": [],
   "source": [
    "testing_data.rename(columns={\n",
    "    0: 'C_1',\n",
    "    1: 'C_2'\n",
    "}, inplace=True)"
   ]
  },
  {
   "cell_type": "code",
   "execution_count": null,
   "id": "ebd89975",
   "metadata": {},
   "outputs": [],
   "source": []
  },
  {
   "cell_type": "code",
   "execution_count": null,
   "id": "84ceac05",
   "metadata": {},
   "outputs": [],
   "source": [
    "testd=testing_data.columns"
   ]
  },
  {
   "cell_type": "code",
   "execution_count": null,
   "id": "e82d1074",
   "metadata": {},
   "outputs": [],
   "source": [
    "\n",
    "categorical_columnss = ['ProductCD', 'card4', 'card6','P_emaildomain','R_emaildomain','DeviceInfo','DeviceType']\n",
    "\n",
    "encodert = OrdinalEncoder()\n",
    "\n",
    "testing_data[categorical_columnss] = encodert.fit_transform(testing_data[categorical_columnss])\n",
    "\n",
    "print(testing_data.head())"
   ]
  },
  {
   "cell_type": "code",
   "execution_count": null,
   "id": "eae94bc0",
   "metadata": {},
   "outputs": [],
   "source": [
    "imptest = SimpleImputer(missing_values=np.NaN, strategy='mean')\n",
    "testing_data=imptest.fit_transform(testing_data)"
   ]
  },
  {
   "cell_type": "code",
   "execution_count": null,
   "id": "87f4319c",
   "metadata": {},
   "outputs": [],
   "source": [
    "testData=pd.DataFrame(testing_data,columns=testd)"
   ]
  },
  {
   "cell_type": "code",
   "execution_count": null,
   "id": "6e402437",
   "metadata": {},
   "outputs": [],
   "source": [
    "testData.shape"
   ]
  },
  {
   "cell_type": "code",
   "execution_count": null,
   "id": "398f6954",
   "metadata": {},
   "outputs": [],
   "source": [
    "import pandas as pd\n",
    "import pickle\n",
    "\n",
    "with open('test_Data.pkl', 'wb') as tef:\n",
    "    pickle.dump(testData, tef)"
   ]
  },
  {
   "cell_type": "code",
   "execution_count": null,
   "id": "cae58669",
   "metadata": {},
   "outputs": [],
   "source": []
  },
  {
   "cell_type": "code",
   "execution_count": null,
   "id": "b921eb98",
   "metadata": {},
   "outputs": [],
   "source": []
  },
  {
   "cell_type": "code",
   "execution_count": null,
   "id": "9c6e8260",
   "metadata": {},
   "outputs": [],
   "source": []
  },
  {
   "cell_type": "code",
   "execution_count": null,
   "id": "a3dce7a6",
   "metadata": {},
   "outputs": [],
   "source": []
  },
  {
   "cell_type": "code",
   "execution_count": null,
   "id": "7a1f8d27",
   "metadata": {},
   "outputs": [],
   "source": []
  },
  {
   "cell_type": "code",
   "execution_count": null,
   "id": "879f490a",
   "metadata": {},
   "outputs": [],
   "source": []
  },
  {
   "cell_type": "code",
   "execution_count": null,
   "id": "48b3f75a",
   "metadata": {},
   "outputs": [],
   "source": []
  },
  {
   "cell_type": "code",
   "execution_count": null,
   "id": "7e86e35d",
   "metadata": {},
   "outputs": [],
   "source": []
  },
  {
   "cell_type": "code",
   "execution_count": null,
   "id": "c3ee11c4",
   "metadata": {},
   "outputs": [],
   "source": []
  },
  {
   "cell_type": "code",
   "execution_count": null,
   "id": "c9cdf3d7",
   "metadata": {},
   "outputs": [],
   "source": []
  },
  {
   "cell_type": "code",
   "execution_count": null,
   "id": "d1dd2f5f",
   "metadata": {},
   "outputs": [],
   "source": []
  },
  {
   "cell_type": "code",
   "execution_count": null,
   "id": "236286ee",
   "metadata": {},
   "outputs": [],
   "source": []
  },
  {
   "cell_type": "code",
   "execution_count": null,
   "id": "77862922",
   "metadata": {},
   "outputs": [],
   "source": []
  },
  {
   "cell_type": "code",
   "execution_count": null,
   "id": "29820ea6",
   "metadata": {},
   "outputs": [],
   "source": []
  },
  {
   "cell_type": "code",
   "execution_count": null,
   "id": "a347c253",
   "metadata": {},
   "outputs": [],
   "source": []
  },
  {
   "cell_type": "code",
   "execution_count": null,
   "id": "3420dad9",
   "metadata": {},
   "outputs": [],
   "source": []
  },
  {
   "cell_type": "code",
   "execution_count": null,
   "id": "0ce3f224",
   "metadata": {},
   "outputs": [],
   "source": []
  },
  {
   "cell_type": "code",
   "execution_count": null,
   "id": "7716c829",
   "metadata": {},
   "outputs": [],
   "source": []
  },
  {
   "cell_type": "code",
   "execution_count": null,
   "id": "1cfc62af",
   "metadata": {},
   "outputs": [],
   "source": []
  },
  {
   "cell_type": "code",
   "execution_count": null,
   "id": "82580360",
   "metadata": {},
   "outputs": [],
   "source": []
  },
  {
   "cell_type": "code",
   "execution_count": null,
   "id": "a3d367a7",
   "metadata": {},
   "outputs": [],
   "source": []
  },
  {
   "cell_type": "code",
   "execution_count": null,
   "id": "8f554307",
   "metadata": {},
   "outputs": [],
   "source": []
  },
  {
   "cell_type": "code",
   "execution_count": null,
   "id": "0414ac2a",
   "metadata": {},
   "outputs": [],
   "source": []
  },
  {
   "cell_type": "code",
   "execution_count": null,
   "id": "cabf7ea4",
   "metadata": {
    "scrolled": true
   },
   "outputs": [],
   "source": []
  },
  {
   "cell_type": "code",
   "execution_count": null,
   "id": "5a15cdc3",
   "metadata": {},
   "outputs": [],
   "source": []
  },
  {
   "cell_type": "code",
   "execution_count": null,
   "id": "fc787c1e",
   "metadata": {},
   "outputs": [],
   "source": []
  },
  {
   "cell_type": "code",
   "execution_count": null,
   "id": "ad241e85",
   "metadata": {},
   "outputs": [],
   "source": []
  },
  {
   "cell_type": "code",
   "execution_count": null,
   "id": "7115a978",
   "metadata": {},
   "outputs": [],
   "source": []
  },
  {
   "cell_type": "code",
   "execution_count": null,
   "id": "ba4ffe65",
   "metadata": {},
   "outputs": [],
   "source": []
  },
  {
   "cell_type": "code",
   "execution_count": null,
   "id": "36f9c4c5",
   "metadata": {},
   "outputs": [],
   "source": []
  },
  {
   "cell_type": "code",
   "execution_count": null,
   "id": "a75dcf9c",
   "metadata": {},
   "outputs": [],
   "source": []
  },
  {
   "cell_type": "code",
   "execution_count": null,
   "id": "d482b22b",
   "metadata": {},
   "outputs": [],
   "source": []
  },
  {
   "cell_type": "code",
   "execution_count": null,
   "id": "03d13031",
   "metadata": {},
   "outputs": [],
   "source": []
  },
  {
   "cell_type": "code",
   "execution_count": null,
   "id": "1c76c57c",
   "metadata": {},
   "outputs": [],
   "source": []
  },
  {
   "cell_type": "code",
   "execution_count": null,
   "id": "a252c53c",
   "metadata": {},
   "outputs": [],
   "source": []
  },
  {
   "cell_type": "code",
   "execution_count": null,
   "id": "3b1a75cd",
   "metadata": {},
   "outputs": [],
   "source": []
  },
  {
   "cell_type": "code",
   "execution_count": null,
   "id": "510d3140",
   "metadata": {},
   "outputs": [],
   "source": []
  },
  {
   "cell_type": "code",
   "execution_count": null,
   "id": "72d37792",
   "metadata": {},
   "outputs": [],
   "source": []
  },
  {
   "cell_type": "code",
   "execution_count": null,
   "id": "6f20231e",
   "metadata": {},
   "outputs": [],
   "source": [
    "\n"
   ]
  },
  {
   "cell_type": "code",
   "execution_count": null,
   "id": "db3eb7eb",
   "metadata": {},
   "outputs": [],
   "source": []
  },
  {
   "cell_type": "code",
   "execution_count": null,
   "id": "d5016e42",
   "metadata": {},
   "outputs": [],
   "source": []
  },
  {
   "cell_type": "code",
   "execution_count": null,
   "id": "3fb47a75",
   "metadata": {},
   "outputs": [],
   "source": []
  },
  {
   "cell_type": "code",
   "execution_count": null,
   "id": "dd2d2f38",
   "metadata": {},
   "outputs": [],
   "source": []
  },
  {
   "cell_type": "code",
   "execution_count": null,
   "id": "856c01b9",
   "metadata": {},
   "outputs": [],
   "source": []
  },
  {
   "cell_type": "code",
   "execution_count": null,
   "id": "999a2778",
   "metadata": {},
   "outputs": [],
   "source": []
  },
  {
   "cell_type": "code",
   "execution_count": null,
   "id": "ac208cba",
   "metadata": {},
   "outputs": [],
   "source": [
    "\n"
   ]
  },
  {
   "cell_type": "code",
   "execution_count": null,
   "id": "95cecdd6",
   "metadata": {},
   "outputs": [],
   "source": []
  },
  {
   "cell_type": "code",
   "execution_count": null,
   "id": "fcfe790c",
   "metadata": {},
   "outputs": [],
   "source": []
  },
  {
   "cell_type": "code",
   "execution_count": null,
   "id": "fc4ab899",
   "metadata": {},
   "outputs": [],
   "source": []
  },
  {
   "cell_type": "code",
   "execution_count": null,
   "id": "3405df86",
   "metadata": {},
   "outputs": [],
   "source": []
  },
  {
   "cell_type": "code",
   "execution_count": null,
   "id": "29536fe1",
   "metadata": {},
   "outputs": [],
   "source": []
  },
  {
   "cell_type": "code",
   "execution_count": null,
   "id": "ad7f876d",
   "metadata": {},
   "outputs": [],
   "source": []
  },
  {
   "cell_type": "code",
   "execution_count": null,
   "id": "591656f5",
   "metadata": {},
   "outputs": [],
   "source": []
  },
  {
   "cell_type": "code",
   "execution_count": null,
   "id": "0951791e",
   "metadata": {},
   "outputs": [],
   "source": []
  }
 ],
 "metadata": {
  "kernelspec": {
   "display_name": "Python [conda env:root] *",
   "language": "python",
   "name": "conda-root-py"
  },
  "language_info": {
   "codemirror_mode": {
    "name": "ipython",
    "version": 3
   },
   "file_extension": ".py",
   "mimetype": "text/x-python",
   "name": "python",
   "nbconvert_exporter": "python",
   "pygments_lexer": "ipython3",
   "version": "3.8.15"
  }
 },
 "nbformat": 4,
 "nbformat_minor": 5
}
