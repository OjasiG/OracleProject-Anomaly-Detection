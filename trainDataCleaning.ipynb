{
 "cells": [
  {
   "cell_type": "code",
   "execution_count": 1,
   "id": "b67b4f5d",
   "metadata": {},
   "outputs": [
    {
     "data": {
      "text/plain": [
       "<Figure size 1400x800 with 0 Axes>"
      ]
     },
     "metadata": {},
     "output_type": "display_data"
    }
   ],
   "source": [
    "import numpy as np\n",
    "import pandas as pd\n",
    "import sklearn\n",
    "import scipy\n",
    "import matplotlib.pyplot as plt\n",
    "import seaborn as sns\n",
    "from sklearn.preprocessing import StandardScaler\n",
    "from sklearn.preprocessing import LabelEncoder\n",
    "from sklearn.preprocessing import OrdinalEncoder\n",
    "from sklearn.impute import SimpleImputer\n",
    "from sklearn.metrics import *\n",
    "from sklearn.ensemble import IsolationForest\n",
    "from sklearn.neighbors import LocalOutlierFactor\n",
    "from sklearn.svm import OneClassSVM\n",
    "from sklearn import svm\n",
    "import matplotlib.pyplot as plt\n",
    "pd.set_option('display.max_columns', None)\n",
    "pd.set_option('display.max_rows',5000000)\n",
    "plt.figure(figsize=(14, 8))\n",
    "\n",
    "RANDOM_SEED = 42\n",
    "LABELS = [\"Valid\", \"Fraud\"]"
   ]
  },
  {
   "cell_type": "code",
   "execution_count": null,
   "id": "f3d1ca22",
   "metadata": {},
   "outputs": [],
   "source": [
    "\n",
    "df1=pd.read_csv(r\"train_transaction.csv\")\n",
    "df2=pd.read_csv(r\"train_identity.csv\")\n",
    "training_data=pd.merge(df1,df2,how='left',on='TransactionID')  #all records from df1 and common records from df2\n",
    "print(\"Training data\",training_data.shape)\n"
   ]
  },
  {
   "cell_type": "code",
   "execution_count": null,
   "id": "c81e0864",
   "metadata": {},
   "outputs": [],
   "source": [
    "training_data.columns.tolist()"
   ]
  },
  {
   "cell_type": "code",
   "execution_count": null,
   "id": "245bf638",
   "metadata": {},
   "outputs": [],
   "source": [
    "trd=training_data[[\n",
    " 'V1',\n",
    " 'V2',\n",
    " 'V3',\n",
    " 'V4',\n",
    " 'V5',\n",
    " 'V6',\n",
    " 'V7',\n",
    " 'V8',\n",
    " 'V9',\n",
    " 'V10',\n",
    " 'V11',\n",
    " 'V12',\n",
    " 'V13',\n",
    " 'V14',\n",
    " 'V15',\n",
    " 'V16',\n",
    " 'V17',\n",
    " 'V18',\n",
    " 'V19',\n",
    " 'V20',\n",
    " 'V21',\n",
    " 'V22',\n",
    " 'V23',\n",
    " 'V24',\n",
    " 'V25',\n",
    " 'V26',\n",
    " 'V27',\n",
    " 'V28',\n",
    " 'V29',\n",
    " 'V30',\n",
    " 'V31',\n",
    " 'V32',\n",
    " 'V33',\n",
    " 'V34',\n",
    " 'V35',\n",
    " 'V36',\n",
    " 'V37',\n",
    " 'V38',\n",
    " 'V39',\n",
    " 'V40',\n",
    " 'V41',\n",
    " 'V42',\n",
    " 'V43',\n",
    " 'V44',\n",
    " 'V45',\n",
    " 'V46',\n",
    " 'V47',\n",
    " 'V48',\n",
    " 'V49',\n",
    " 'V50',\n",
    " 'V51',\n",
    " 'V52',\n",
    " 'V53',\n",
    " 'V54',\n",
    " 'V55',\n",
    " 'V56',\n",
    " 'V57',\n",
    " 'V58',\n",
    " 'V59',\n",
    " 'V60',\n",
    " 'V61',\n",
    " 'V62',\n",
    " 'V63',\n",
    " 'V64',\n",
    " 'V65',\n",
    " 'V66',\n",
    " 'V67',\n",
    " 'V68',\n",
    " 'V69',\n",
    " 'V70',\n",
    " 'V71',\n",
    " 'V72',\n",
    " 'V73',\n",
    " 'V74',\n",
    " 'V75',\n",
    " 'V76',\n",
    " 'V77',\n",
    " 'V78',\n",
    " 'V79',\n",
    " 'V80',\n",
    " 'V81',\n",
    " 'V82',\n",
    " 'V83',\n",
    " 'V84',\n",
    " 'V85',\n",
    " 'V86',\n",
    " 'V87',\n",
    " 'V88',\n",
    " 'V89',\n",
    " 'V90',\n",
    " 'V91',\n",
    " 'V92',\n",
    " 'V93',\n",
    " 'V94',\n",
    " 'V95',\n",
    " 'V96',\n",
    " 'V97',\n",
    " 'V98',\n",
    " 'V99',\n",
    " 'V100',\n",
    " 'V101',\n",
    " 'V102',\n",
    " 'V103',\n",
    " 'V104',\n",
    " 'V105',\n",
    " 'V106',\n",
    " 'V107',\n",
    " 'V108',\n",
    " 'V109',\n",
    " 'V110',\n",
    " 'V111',\n",
    " 'V112',\n",
    " 'V113',\n",
    " 'V114',\n",
    " 'V115',\n",
    " 'V116',\n",
    " 'V117',\n",
    " 'V118',\n",
    " 'V119',\n",
    " 'V120',\n",
    " 'V121',\n",
    " 'V122',\n",
    " 'V123',\n",
    " 'V124',\n",
    " 'V125',\n",
    " 'V126',\n",
    " 'V127',\n",
    " 'V128',\n",
    " 'V129',\n",
    " 'V130',\n",
    " 'V131',\n",
    " 'V132',\n",
    " 'V133',\n",
    " 'V134',\n",
    " 'V135',\n",
    " 'V136',\n",
    " 'V137',\n",
    " 'V138',\n",
    " 'V139',\n",
    " 'V140',\n",
    " 'V141',\n",
    " 'V142',\n",
    " 'V143',\n",
    " 'V144',\n",
    " 'V145',\n",
    " 'V146',\n",
    " 'V147',\n",
    " 'V148',\n",
    " 'V149',\n",
    " 'V150',\n",
    " 'V151',\n",
    " 'V152',\n",
    " 'V153',\n",
    " 'V154',\n",
    " 'V155',\n",
    " 'V156',\n",
    " 'V157',\n",
    " 'V158',\n",
    " 'V159',\n",
    " 'V160',\n",
    " 'V161',\n",
    " 'V162',\n",
    " 'V163',\n",
    " 'V164',\n",
    " 'V165',\n",
    " 'V166',\n",
    " 'V167',\n",
    " 'V168',\n",
    " 'V169',\n",
    " 'V170',\n",
    " 'V171',\n",
    " 'V172',\n",
    " 'V173',\n",
    " 'V174',\n",
    " 'V175',\n",
    " 'V176',\n",
    " 'V177',\n",
    " 'V178',\n",
    " 'V179',\n",
    " 'V180',\n",
    " 'V181',\n",
    " 'V182',\n",
    " 'V183',\n",
    " 'V184',\n",
    " 'V185',\n",
    " 'V186',\n",
    " 'V187',\n",
    " 'V188',\n",
    " 'V189',\n",
    " 'V190',\n",
    " 'V191',\n",
    " 'V192',\n",
    " 'V193',\n",
    " 'V194',\n",
    " 'V195',\n",
    " 'V196',\n",
    " 'V197',\n",
    " 'V198',\n",
    " 'V199',\n",
    " 'V200',\n",
    " 'V201',\n",
    " 'V202',\n",
    " 'V203',\n",
    " 'V204',\n",
    " 'V205',\n",
    " 'V206',\n",
    " 'V207',\n",
    " 'V208',\n",
    " 'V209',\n",
    " 'V210',\n",
    " 'V211',\n",
    " 'V212',\n",
    " 'V213',\n",
    " 'V214',\n",
    " 'V215',\n",
    " 'V216',\n",
    " 'V217',\n",
    " 'V218',\n",
    " 'V219',\n",
    " 'V220',\n",
    " 'V221',\n",
    " 'V222',\n",
    " 'V223',\n",
    " 'V224',\n",
    " 'V225',\n",
    " 'V226',\n",
    " 'V227',\n",
    " 'V228',\n",
    " 'V229',\n",
    " 'V230',\n",
    " 'V231',\n",
    " 'V232',\n",
    " 'V233',\n",
    " 'V234',\n",
    " 'V235',\n",
    " 'V236',\n",
    " 'V237',\n",
    " 'V238',\n",
    " 'V239',\n",
    " 'V240',\n",
    " 'V241',\n",
    " 'V242',\n",
    " 'V243',\n",
    " 'V244',\n",
    " 'V245',\n",
    " 'V246',\n",
    " 'V247',\n",
    " 'V248',\n",
    " 'V249',\n",
    " 'V250',\n",
    " 'V251',\n",
    " 'V252',\n",
    " 'V253',\n",
    " 'V254',\n",
    " 'V255',\n",
    " 'V256',\n",
    " 'V257',\n",
    " 'V258',\n",
    " 'V259',\n",
    " 'V260',\n",
    " 'V261',\n",
    " 'V262',\n",
    " 'V263',\n",
    " 'V264',\n",
    " 'V265',\n",
    " 'V266',\n",
    " 'V267',\n",
    " 'V268',\n",
    " 'V269',\n",
    " 'V270',\n",
    " 'V271',\n",
    " 'V272',\n",
    " 'V273',\n",
    " 'V274',\n",
    " 'V275',\n",
    " 'V276',\n",
    " 'V277',\n",
    " 'V278',\n",
    " 'V279',\n",
    " 'V280',\n",
    " 'V281',\n",
    " 'V282',\n",
    " 'V283',\n",
    " 'V284',\n",
    " 'V285',\n",
    " 'V286',\n",
    " 'V287',\n",
    " 'V288',\n",
    " 'V289',\n",
    " 'V290',\n",
    " 'V291',\n",
    " 'V292',\n",
    " 'V293',\n",
    " 'V294',\n",
    " 'V295',\n",
    " 'V296',\n",
    " 'V297',\n",
    " 'V298',\n",
    " 'V299',\n",
    " 'V300',\n",
    " 'V301',\n",
    " 'V302',\n",
    " 'V303',\n",
    " 'V304',\n",
    " 'V305',\n",
    " 'V306',\n",
    " 'V307',\n",
    " 'V308',\n",
    " 'V309',\n",
    " 'V310',\n",
    " 'V311',\n",
    " 'V312',\n",
    " 'V313',\n",
    " 'V314',\n",
    " 'V315',\n",
    " 'V316',\n",
    " 'V317',\n",
    " 'V318',\n",
    " 'V319',\n",
    " 'V320',\n",
    " 'V321',\n",
    " 'V322',\n",
    " 'V323',\n",
    " 'V324',\n",
    " 'V325',\n",
    " 'V326',\n",
    " 'V327',\n",
    " 'V328',\n",
    " 'V329',\n",
    " 'V330',\n",
    " 'V331',\n",
    " 'V332',\n",
    " 'V333',\n",
    " 'V334',\n",
    " 'V335',\n",
    " 'V336',\n",
    " 'V337',\n",
    " 'V338',\n",
    " 'V339'\n",
    "]]"
   ]
  },
  {
   "cell_type": "code",
   "execution_count": null,
   "id": "b3fe990e",
   "metadata": {},
   "outputs": [],
   "source": [
    "from sklearn.decomposition import PCA"
   ]
  },
  {
   "cell_type": "code",
   "execution_count": null,
   "id": "c03a7c00",
   "metadata": {},
   "outputs": [],
   "source": [
    "trd.shape"
   ]
  },
  {
   "cell_type": "code",
   "execution_count": null,
   "id": "c1b5ee5a",
   "metadata": {},
   "outputs": [],
   "source": [
    "sr=StandardScaler()\n",
    "sr.fit(trd)\n",
    "sdata=sr.transform(trd)"
   ]
  },
  {
   "cell_type": "code",
   "execution_count": null,
   "id": "588d4093",
   "metadata": {},
   "outputs": [],
   "source": [
    "impp = SimpleImputer(missing_values=np.nan, strategy='mean')\n",
    "tr1=impp.fit_transform(sdata)\n"
   ]
  },
  {
   "cell_type": "code",
   "execution_count": null,
   "id": "2482dc84",
   "metadata": {},
   "outputs": [],
   "source": [
    "tr1"
   ]
  },
  {
   "cell_type": "code",
   "execution_count": null,
   "id": "c973aeeb",
   "metadata": {},
   "outputs": [],
   "source": [
    "pcaa=PCA(n_components=2)\n",
    "pcaa.fit(tr1)\n",
    "Vpca=pcaa.transform(tr1)\n",
    "Vpca.shape"
   ]
  },
  {
   "cell_type": "code",
   "execution_count": null,
   "id": "80db115e",
   "metadata": {},
   "outputs": [],
   "source": [
    "training_data=training_data.drop(columns=trd,axis=1)"
   ]
  },
  {
   "cell_type": "code",
   "execution_count": null,
   "id": "39f235eb",
   "metadata": {},
   "outputs": [],
   "source": [
    "training_data.shape"
   ]
  },
  {
   "cell_type": "code",
   "execution_count": null,
   "id": "4c4badaa",
   "metadata": {},
   "outputs": [],
   "source": [
    "V_pca=pd.DataFrame(Vpca)\n",
    "V_pca.head()"
   ]
  },
  {
   "cell_type": "code",
   "execution_count": null,
   "id": "5b1d351b",
   "metadata": {},
   "outputs": [],
   "source": [
    "training_data= pd.concat([training_data, V_pca], axis=1)\n",
    "training_data.head()"
   ]
  },
  {
   "cell_type": "code",
   "execution_count": null,
   "id": "d00b4672",
   "metadata": {},
   "outputs": [],
   "source": [
    "training_data.rename(columns={\n",
    "    0: 'V_features_1',\n",
    "    1: 'V_features_2'\n",
    "}, inplace=True)"
   ]
  },
  {
   "cell_type": "code",
   "execution_count": null,
   "id": "fe38cc83",
   "metadata": {},
   "outputs": [],
   "source": [
    "idd=training_data[['id_01',\n",
    " 'id_02',\n",
    " 'id_03',\n",
    " 'id_04',\n",
    " 'id_05',\n",
    " 'id_06',\n",
    " 'id_07',\n",
    " 'id_08',\n",
    " 'id_09',\n",
    " 'id_10',\n",
    " 'id_11',\n",
    " 'id_12',\n",
    " 'id_13',\n",
    " 'id_14',\n",
    " 'id_15',\n",
    " 'id_16',\n",
    " 'id_17',\n",
    " 'id_18',\n",
    " 'id_19',\n",
    " 'id_20',\n",
    " 'id_21',\n",
    " 'id_22',\n",
    " 'id_23',\n",
    " 'id_24',\n",
    " 'id_25',\n",
    " 'id_26',\n",
    " 'id_27',\n",
    " 'id_28',\n",
    " 'id_29',\n",
    " 'id_30',\n",
    " 'id_31',\n",
    " 'id_32',\n",
    " 'id_33',\n",
    " 'id_34',\n",
    " 'id_35',\n",
    " 'id_36',\n",
    " 'id_37',\n",
    " 'id_38']]"
   ]
  },
  {
   "cell_type": "code",
   "execution_count": null,
   "id": "8b27c9cc",
   "metadata": {},
   "outputs": [],
   "source": [
    "IDD1=pd.DataFrame(idd)\n"
   ]
  },
  {
   "cell_type": "code",
   "execution_count": null,
   "id": "b75898f0",
   "metadata": {},
   "outputs": [],
   "source": [
    "import pandas as pd\n",
    "from sklearn.preprocessing import OrdinalEncoder\n",
    "\n",
    "# Create an instance of the OrdinalEncoder\n",
    "encoder = OrdinalEncoder()\n",
    "\n",
    "# Fit and transform the data using the encoder\n",
    "IDD1 = encoder.fit_transform(IDD1)\n",
    "IDD1=pd.DataFrame(IDD1)\n",
    "print(idd.head())\n"
   ]
  },
  {
   "cell_type": "code",
   "execution_count": null,
   "id": "bb6e0b07",
   "metadata": {},
   "outputs": [],
   "source": []
  },
  {
   "cell_type": "code",
   "execution_count": null,
   "id": "cccab446",
   "metadata": {},
   "outputs": [],
   "source": [
    "sri=StandardScaler()\n",
    "sri.fit(IDD1)\n",
    "idata=sri.transform(IDD1)"
   ]
  },
  {
   "cell_type": "code",
   "execution_count": null,
   "id": "a144db7f",
   "metadata": {},
   "outputs": [],
   "source": [
    "impp = SimpleImputer(missing_values=np.NaN, strategy='mean')\n",
    "id1=impp.fit_transform(idata)\n"
   ]
  },
  {
   "cell_type": "code",
   "execution_count": null,
   "id": "d5996da2",
   "metadata": {},
   "outputs": [],
   "source": [
    "pcaai=PCA(n_components=2)\n",
    "pcaai.fit(id1)\n",
    "IDpca=pcaai.transform(id1)\n",
    "IDpca.shape"
   ]
  },
  {
   "cell_type": "code",
   "execution_count": null,
   "id": "d268dac5",
   "metadata": {},
   "outputs": [],
   "source": [
    "training_data=training_data.drop(columns=idd,axis=1)"
   ]
  },
  {
   "cell_type": "code",
   "execution_count": null,
   "id": "bc1b83d2",
   "metadata": {},
   "outputs": [],
   "source": [
    "ID_pca=pd.DataFrame(IDpca)\n",
    "training_data= pd.concat([training_data, ID_pca], axis=1)\n",
    "\n"
   ]
  },
  {
   "cell_type": "code",
   "execution_count": null,
   "id": "2c6f5ae3",
   "metadata": {},
   "outputs": [],
   "source": [
    "training_data.rename(columns={\n",
    "    0: 'ID_1',\n",
    "    1: 'ID_2'\n",
    "}, inplace=True)"
   ]
  },
  {
   "cell_type": "code",
   "execution_count": null,
   "id": "3497fc2c",
   "metadata": {},
   "outputs": [],
   "source": [
    "Mm=training_data[['M1','M2','M3','M4','M5','M6','M7','M8','M9']]"
   ]
  },
  {
   "cell_type": "code",
   "execution_count": null,
   "id": "3929ec7b",
   "metadata": {},
   "outputs": [],
   "source": [
    "MM1=pd.DataFrame(Mm)"
   ]
  },
  {
   "cell_type": "code",
   "execution_count": null,
   "id": "56dc1817",
   "metadata": {},
   "outputs": [],
   "source": [
    "import pandas as pd\n",
    "from sklearn.preprocessing import OrdinalEncoder\n",
    "\n",
    "# Create an instance of the OrdinalEncoder\n",
    "encoder = OrdinalEncoder()\n",
    "\n",
    "# Fit and transform the data using the encoder\n",
    "MM1 = encoder.fit_transform(MM1)\n",
    "MM1=pd.DataFrame(MM1)\n",
    "print(MM1.head())\n"
   ]
  },
  {
   "cell_type": "code",
   "execution_count": null,
   "id": "268af8ea",
   "metadata": {},
   "outputs": [],
   "source": [
    "srm=StandardScaler()\n",
    "srm.fit(MM1)\n",
    "mdata=srm.transform(MM1)"
   ]
  },
  {
   "cell_type": "code",
   "execution_count": null,
   "id": "cfb4218c",
   "metadata": {},
   "outputs": [],
   "source": [
    "imppm = SimpleImputer(missing_values=np.NaN, strategy='mean')\n",
    "mm1=imppm.fit_transform(mdata)"
   ]
  },
  {
   "cell_type": "code",
   "execution_count": null,
   "id": "db13a477",
   "metadata": {},
   "outputs": [],
   "source": [
    "pcaam=PCA(n_components=2)\n",
    "pcaam.fit(mm1)\n",
    "Mpca=pcaam.transform(mm1)\n",
    "Mpca.shape"
   ]
  },
  {
   "cell_type": "code",
   "execution_count": null,
   "id": "426f62ab",
   "metadata": {},
   "outputs": [],
   "source": [
    "training_data=training_data.drop(columns=Mm,axis=1)"
   ]
  },
  {
   "cell_type": "code",
   "execution_count": null,
   "id": "92434930",
   "metadata": {},
   "outputs": [],
   "source": []
  },
  {
   "cell_type": "code",
   "execution_count": null,
   "id": "7597bb3c",
   "metadata": {},
   "outputs": [],
   "source": [
    "M_pca=pd.DataFrame(Mpca)\n",
    "training_data= pd.concat([training_data, M_pca], axis=1)\n"
   ]
  },
  {
   "cell_type": "code",
   "execution_count": null,
   "id": "38de67ac",
   "metadata": {},
   "outputs": [],
   "source": [
    "training_data.rename(columns={\n",
    "    0: 'M_1',\n",
    "    1: 'M_2'\n",
    "}, inplace=True)"
   ]
  },
  {
   "cell_type": "code",
   "execution_count": null,
   "id": "296aa9b8",
   "metadata": {},
   "outputs": [],
   "source": [
    "dd=training_data[['D1',\n",
    " 'D2',\n",
    " 'D3',\n",
    " 'D4',\n",
    " 'D5',\n",
    " 'D6',\n",
    " 'D7',\n",
    " 'D8',\n",
    " 'D9',\n",
    " 'D10',\n",
    " 'D11',\n",
    " 'D12',\n",
    " 'D13',\n",
    " 'D14',\n",
    " 'D15']]"
   ]
  },
  {
   "cell_type": "code",
   "execution_count": null,
   "id": "509190f2",
   "metadata": {},
   "outputs": [],
   "source": [
    "srd=StandardScaler()\n",
    "srd.fit(dd)\n",
    "ddata=srd.transform(dd)"
   ]
  },
  {
   "cell_type": "code",
   "execution_count": null,
   "id": "085bb1af",
   "metadata": {},
   "outputs": [],
   "source": [
    "impd = SimpleImputer(missing_values=np.nan, strategy='mean')\n",
    "dd1=impd.fit_transform(ddata)\n"
   ]
  },
  {
   "cell_type": "code",
   "execution_count": null,
   "id": "5ad1ed8e",
   "metadata": {},
   "outputs": [],
   "source": [
    "pcad=PCA(n_components=2)\n",
    "pcad.fit(dd1)\n",
    "Dpca=pcad.transform(dd1)\n",
    "Dpca.shape"
   ]
  },
  {
   "cell_type": "code",
   "execution_count": null,
   "id": "5d275d67",
   "metadata": {},
   "outputs": [],
   "source": [
    "training_data=training_data.drop(columns=dd,axis=1)"
   ]
  },
  {
   "cell_type": "code",
   "execution_count": null,
   "id": "f146fd1a",
   "metadata": {},
   "outputs": [],
   "source": [
    "D_pca=pd.DataFrame(Dpca)\n",
    "training_data= pd.concat([training_data, D_pca], axis=1)\n"
   ]
  },
  {
   "cell_type": "code",
   "execution_count": null,
   "id": "1f2a04a3",
   "metadata": {},
   "outputs": [],
   "source": [
    "training_data.rename(columns={\n",
    "    0: 'D_1',\n",
    "    1: 'D_2'\n",
    "}, inplace=True)"
   ]
  },
  {
   "cell_type": "code",
   "execution_count": null,
   "id": "069bf489",
   "metadata": {},
   "outputs": [],
   "source": [
    "cc=training_data[['C1',\n",
    " 'C2',\n",
    " 'C3',\n",
    " 'C4',\n",
    " 'C5',\n",
    " 'C6',\n",
    " 'C7',\n",
    " 'C8',\n",
    " 'C9',\n",
    " 'C10',\n",
    " 'C11',\n",
    " 'C12',\n",
    " 'C13',\n",
    " 'C14']]"
   ]
  },
  {
   "cell_type": "code",
   "execution_count": null,
   "id": "199db9d7",
   "metadata": {},
   "outputs": [],
   "source": [
    "src=StandardScaler()\n",
    "src.fit(cc)\n",
    "cdata=src.transform(cc)"
   ]
  },
  {
   "cell_type": "code",
   "execution_count": null,
   "id": "14079121",
   "metadata": {},
   "outputs": [],
   "source": [
    "impc = SimpleImputer(missing_values=np.nan, strategy='mean')\n",
    "cc1=impc.fit_transform(cdata)"
   ]
  },
  {
   "cell_type": "code",
   "execution_count": null,
   "id": "21fbdb90",
   "metadata": {},
   "outputs": [],
   "source": [
    "pcac=PCA(n_components=2)\n",
    "pcac.fit(cc1)\n",
    "Cpca=pcac.transform(cc1)\n",
    "Cpca.shape"
   ]
  },
  {
   "cell_type": "code",
   "execution_count": null,
   "id": "e1c8ec2b",
   "metadata": {},
   "outputs": [],
   "source": [
    "training_data=training_data.drop(columns=cc,axis=1)"
   ]
  },
  {
   "cell_type": "code",
   "execution_count": null,
   "id": "16e66373",
   "metadata": {},
   "outputs": [],
   "source": [
    "C_pca=pd.DataFrame(Cpca)\n",
    "training_data= pd.concat([training_data, C_pca], axis=1)\n"
   ]
  },
  {
   "cell_type": "code",
   "execution_count": null,
   "id": "c20c4a63",
   "metadata": {},
   "outputs": [],
   "source": [
    "training_data.rename(columns={\n",
    "    0: 'C_1',\n",
    "    1: 'C_2'\n",
    "}, inplace=True)"
   ]
  },
  {
   "cell_type": "code",
   "execution_count": null,
   "id": "d5b721a7",
   "metadata": {},
   "outputs": [],
   "source": [
    "traind=training_data.columns"
   ]
  },
  {
   "cell_type": "code",
   "execution_count": null,
   "id": "7ac87c5d",
   "metadata": {},
   "outputs": [],
   "source": [
    "\n",
    "categorical_columns = ['ProductCD', 'card4', 'card6','P_emaildomain','R_emaildomain','DeviceInfo','DeviceType']\n",
    "\n",
    "encoder = OrdinalEncoder()\n",
    "\n",
    "training_data[categorical_columns] = encoder.fit_transform(training_data[categorical_columns])\n",
    "\n",
    "print(training_data.head())"
   ]
  },
  {
   "cell_type": "code",
   "execution_count": null,
   "id": "8befe9d3",
   "metadata": {},
   "outputs": [],
   "source": [
    "impt = SimpleImputer(missing_values=np.NaN, strategy='mean')\n",
    "training_data=impt.fit_transform(training_data)"
   ]
  },
  {
   "cell_type": "code",
   "execution_count": null,
   "id": "c955588c",
   "metadata": {},
   "outputs": [],
   "source": [
    "trainData=pd.DataFrame(training_data,columns=traind)"
   ]
  },
  {
   "cell_type": "code",
   "execution_count": null,
   "id": "50f3496f",
   "metadata": {},
   "outputs": [],
   "source": [
    "import pandas as pd\n",
    "import pickle\n",
    "\n",
    "# Assume you have a DataFrame named trainData that you want to save to a pickle file\n",
    "\n",
    "with open('train_Data.pkl', 'wb') as f:\n",
    "    pickle.dump(trainData, f)\n"
   ]
  },
  {
   "cell_type": "code",
   "execution_count": null,
   "id": "72badcb9",
   "metadata": {},
   "outputs": [],
   "source": []
  },
  {
   "cell_type": "code",
   "execution_count": null,
   "id": "8a2ce8cc",
   "metadata": {},
   "outputs": [],
   "source": []
  },
  {
   "cell_type": "code",
   "execution_count": null,
   "id": "e84ae4f8",
   "metadata": {},
   "outputs": [],
   "source": []
  },
  {
   "cell_type": "code",
   "execution_count": null,
   "id": "745eea02",
   "metadata": {},
   "outputs": [],
   "source": []
  },
  {
   "cell_type": "code",
   "execution_count": null,
   "id": "4789b3ed",
   "metadata": {},
   "outputs": [],
   "source": []
  },
  {
   "cell_type": "code",
   "execution_count": null,
   "id": "01480b22",
   "metadata": {},
   "outputs": [],
   "source": []
  },
  {
   "cell_type": "code",
   "execution_count": null,
   "id": "d76eb499",
   "metadata": {},
   "outputs": [],
   "source": []
  },
  {
   "cell_type": "code",
   "execution_count": null,
   "id": "d93c0d84",
   "metadata": {},
   "outputs": [],
   "source": []
  },
  {
   "cell_type": "code",
   "execution_count": null,
   "id": "c676183d",
   "metadata": {},
   "outputs": [],
   "source": []
  },
  {
   "cell_type": "code",
   "execution_count": null,
   "id": "3ca9df83",
   "metadata": {},
   "outputs": [],
   "source": []
  },
  {
   "cell_type": "code",
   "execution_count": null,
   "id": "22236e08",
   "metadata": {},
   "outputs": [],
   "source": []
  },
  {
   "cell_type": "code",
   "execution_count": null,
   "id": "79d34b17",
   "metadata": {},
   "outputs": [],
   "source": []
  },
  {
   "cell_type": "code",
   "execution_count": null,
   "id": "ff56851e",
   "metadata": {},
   "outputs": [],
   "source": []
  },
  {
   "cell_type": "code",
   "execution_count": null,
   "id": "847d4051",
   "metadata": {},
   "outputs": [],
   "source": []
  },
  {
   "cell_type": "code",
   "execution_count": null,
   "id": "b2867c36",
   "metadata": {},
   "outputs": [],
   "source": []
  },
  {
   "cell_type": "code",
   "execution_count": null,
   "id": "4807d585",
   "metadata": {},
   "outputs": [],
   "source": []
  },
  {
   "cell_type": "code",
   "execution_count": null,
   "id": "52bc9424",
   "metadata": {},
   "outputs": [],
   "source": []
  },
  {
   "cell_type": "code",
   "execution_count": null,
   "id": "774a5f98",
   "metadata": {},
   "outputs": [],
   "source": []
  },
  {
   "cell_type": "code",
   "execution_count": null,
   "id": "14aff2da",
   "metadata": {},
   "outputs": [],
   "source": []
  },
  {
   "cell_type": "code",
   "execution_count": null,
   "id": "cce1ba1f",
   "metadata": {},
   "outputs": [],
   "source": []
  },
  {
   "cell_type": "code",
   "execution_count": null,
   "id": "8a15d8b9",
   "metadata": {},
   "outputs": [],
   "source": []
  },
  {
   "cell_type": "code",
   "execution_count": null,
   "id": "44ff4efc",
   "metadata": {},
   "outputs": [],
   "source": []
  },
  {
   "cell_type": "code",
   "execution_count": null,
   "id": "008d28c3",
   "metadata": {},
   "outputs": [],
   "source": []
  },
  {
   "cell_type": "code",
   "execution_count": null,
   "id": "007bf863",
   "metadata": {},
   "outputs": [],
   "source": []
  },
  {
   "cell_type": "code",
   "execution_count": null,
   "id": "6d03f058",
   "metadata": {
    "scrolled": true
   },
   "outputs": [],
   "source": []
  },
  {
   "cell_type": "code",
   "execution_count": null,
   "id": "414cc709",
   "metadata": {},
   "outputs": [],
   "source": []
  },
  {
   "cell_type": "code",
   "execution_count": null,
   "id": "b0da899d",
   "metadata": {},
   "outputs": [],
   "source": []
  },
  {
   "cell_type": "code",
   "execution_count": null,
   "id": "516b95f8",
   "metadata": {},
   "outputs": [],
   "source": []
  },
  {
   "cell_type": "code",
   "execution_count": null,
   "id": "50724c92",
   "metadata": {},
   "outputs": [],
   "source": []
  },
  {
   "cell_type": "code",
   "execution_count": null,
   "id": "1692f5c0",
   "metadata": {},
   "outputs": [],
   "source": []
  },
  {
   "cell_type": "code",
   "execution_count": null,
   "id": "dcb15d79",
   "metadata": {},
   "outputs": [],
   "source": []
  },
  {
   "cell_type": "code",
   "execution_count": null,
   "id": "2d8e4819",
   "metadata": {},
   "outputs": [],
   "source": []
  },
  {
   "cell_type": "code",
   "execution_count": null,
   "id": "6e4e223e",
   "metadata": {},
   "outputs": [],
   "source": []
  },
  {
   "cell_type": "code",
   "execution_count": null,
   "id": "8917e44c",
   "metadata": {},
   "outputs": [],
   "source": []
  },
  {
   "cell_type": "code",
   "execution_count": null,
   "id": "19c0c0d0",
   "metadata": {},
   "outputs": [],
   "source": []
  },
  {
   "cell_type": "code",
   "execution_count": null,
   "id": "0e5b34f7",
   "metadata": {},
   "outputs": [],
   "source": []
  },
  {
   "cell_type": "code",
   "execution_count": null,
   "id": "eccb8319",
   "metadata": {},
   "outputs": [],
   "source": []
  },
  {
   "cell_type": "code",
   "execution_count": null,
   "id": "166b6b80",
   "metadata": {},
   "outputs": [],
   "source": []
  },
  {
   "cell_type": "code",
   "execution_count": null,
   "id": "6ae07534",
   "metadata": {},
   "outputs": [],
   "source": []
  },
  {
   "cell_type": "code",
   "execution_count": null,
   "id": "6e135fd4",
   "metadata": {},
   "outputs": [],
   "source": [
    "\n"
   ]
  },
  {
   "cell_type": "code",
   "execution_count": null,
   "id": "93f3c734",
   "metadata": {},
   "outputs": [],
   "source": []
  },
  {
   "cell_type": "code",
   "execution_count": null,
   "id": "950347be",
   "metadata": {},
   "outputs": [],
   "source": []
  },
  {
   "cell_type": "code",
   "execution_count": null,
   "id": "4c588eb4",
   "metadata": {},
   "outputs": [],
   "source": []
  },
  {
   "cell_type": "code",
   "execution_count": null,
   "id": "e66053e9",
   "metadata": {},
   "outputs": [],
   "source": []
  },
  {
   "cell_type": "code",
   "execution_count": null,
   "id": "cffab5aa",
   "metadata": {},
   "outputs": [],
   "source": []
  },
  {
   "cell_type": "code",
   "execution_count": null,
   "id": "2800b767",
   "metadata": {},
   "outputs": [],
   "source": []
  },
  {
   "cell_type": "code",
   "execution_count": null,
   "id": "2b181b12",
   "metadata": {},
   "outputs": [],
   "source": [
    "\n"
   ]
  },
  {
   "cell_type": "code",
   "execution_count": null,
   "id": "84bc53cb",
   "metadata": {},
   "outputs": [],
   "source": []
  },
  {
   "cell_type": "code",
   "execution_count": null,
   "id": "f591678d",
   "metadata": {},
   "outputs": [],
   "source": []
  },
  {
   "cell_type": "code",
   "execution_count": null,
   "id": "e89c3447",
   "metadata": {},
   "outputs": [],
   "source": []
  },
  {
   "cell_type": "code",
   "execution_count": null,
   "id": "face97ca",
   "metadata": {},
   "outputs": [],
   "source": []
  },
  {
   "cell_type": "code",
   "execution_count": null,
   "id": "a8018e1f",
   "metadata": {},
   "outputs": [],
   "source": []
  },
  {
   "cell_type": "code",
   "execution_count": null,
   "id": "3533229f",
   "metadata": {},
   "outputs": [],
   "source": []
  },
  {
   "cell_type": "code",
   "execution_count": null,
   "id": "8880b65f",
   "metadata": {},
   "outputs": [],
   "source": []
  },
  {
   "cell_type": "code",
   "execution_count": null,
   "id": "f91058f3",
   "metadata": {},
   "outputs": [],
   "source": []
  },
  {
   "cell_type": "code",
   "execution_count": null,
   "id": "c85bd526",
   "metadata": {},
   "outputs": [],
   "source": []
  }
 ],
 "metadata": {
  "kernelspec": {
   "display_name": "Python 3 (ipykernel)",
   "language": "python",
   "name": "python3"
  },
  "language_info": {
   "codemirror_mode": {
    "name": "ipython",
    "version": 3
   },
   "file_extension": ".py",
   "mimetype": "text/x-python",
   "name": "python",
   "nbconvert_exporter": "python",
   "pygments_lexer": "ipython3",
   "version": "3.8.15"
  }
 },
 "nbformat": 4,
 "nbformat_minor": 5
}
